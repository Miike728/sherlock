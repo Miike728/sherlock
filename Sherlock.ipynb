{
  "nbformat": 4,
  "nbformat_minor": 0,
  "metadata": {
    "colab": {
      "name": "Sherlock",
      "provenance": [],
      "authorship_tag": "ABX9TyNuGHnUYkE5w9hIyMgsOMpz",
      "include_colab_link": true
    },
    "kernelspec": {
      "name": "python3",
      "display_name": "Python 3"
    }
  },
  "cells": [
    {
      "cell_type": "markdown",
      "metadata": {
        "id": "view-in-github",
        "colab_type": "text"
      },
      "source": [
        "<a href=\"https://colab.research.google.com/github/Miike728/sherlock/blob/main/Sherlock.ipynb\" target=\"_parent\"><img src=\"https://colab.research.google.com/assets/colab-badge.svg\" alt=\"Open In Colab\"/></a>"
      ]
    },
    {
      "cell_type": "code",
      "metadata": {
        "id": "b4gm2uQa6iQN"
      },
      "source": [
        "!git clone https://github.com/sherlock-project/sherlock.git"
      ],
      "execution_count": null,
      "outputs": []
    },
    {
      "cell_type": "code",
      "metadata": {
        "id": "xYHpxZzO64A1"
      },
      "source": [
        "cd sherlock"
      ],
      "execution_count": null,
      "outputs": []
    },
    {
      "cell_type": "code",
      "metadata": {
        "id": "BIvm4PJI630o"
      },
      "source": [
        "!python3 -m pip install -r requirements.txt"
      ],
      "execution_count": null,
      "outputs": []
    },
    {
      "cell_type": "code",
      "metadata": {
        "id": "i3Kb09Uu7FZV"
      },
      "source": [
        "!python3 sherlock \"USUARIO (SIN COMILLAS)\""
      ],
      "execution_count": null,
      "outputs": []
    }
  ]
}